{
 "cells": [
  {
   "cell_type": "code",
   "execution_count": 2,
   "id": "3abfe2bf",
   "metadata": {},
   "outputs": [
    {
     "name": "stdout",
     "output_type": "stream",
     "text": [
      "X_train shape: (19999, 16)\n"
     ]
    }
   ],
   "source": [
    "import pandas as pd\n",
    "training_data = pd.read_csv('dataset/training.csv')\n",
    "print(\"X_train shape:\", training_data.shape)"
   ]
  },
  {
   "cell_type": "code",
   "execution_count": 3,
   "id": "edca19ab",
   "metadata": {},
   "outputs": [
    {
     "name": "stdout",
     "output_type": "stream",
     "text": [
      "Index(['2013', '5', '7', '1657', '-3', '2104', '10', 'DL', 'N3760C', '329',\n",
      "       'JFK', 'SJU', '216', '1598', '16', '57'],\n",
      "      dtype='object')\n"
     ]
    }
   ],
   "source": [
    "print(training_data.keys())"
   ]
  },
  {
   "cell_type": "code",
   "execution_count": null,
   "id": "3564188f",
   "metadata": {},
   "outputs": [],
   "source": [
    "def AverageDelay():\n",
    "    from time in training_data[]"
   ]
  }
 ],
 "metadata": {
  "kernelspec": {
   "display_name": "Python 3 (ipykernel)",
   "language": "python",
   "name": "python3"
  },
  "language_info": {
   "codemirror_mode": {
    "name": "ipython",
    "version": 3
   },
   "file_extension": ".py",
   "mimetype": "text/x-python",
   "name": "python",
   "nbconvert_exporter": "python",
   "pygments_lexer": "ipython3",
   "version": "3.9.7"
  }
 },
 "nbformat": 4,
 "nbformat_minor": 5
}
