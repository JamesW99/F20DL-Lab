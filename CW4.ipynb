{
 "cells": [
  {
   "cell_type": "code",
   "execution_count": 1,
   "metadata": {},
   "outputs": [],
   "source": [
    "import warnings\n",
    "warnings.filterwarnings('ignore')"
   ]
  },
  {
   "cell_type": "code",
   "execution_count": 2,
   "metadata": {},
   "outputs": [],
   "source": [
    "import numpy as np\n",
    "import pandas as pd\n",
    "import matplotlib.pyplot as plt"
   ]
  },
  {
   "cell_type": "code",
   "execution_count": 3,
   "metadata": {},
   "outputs": [],
   "source": [
    "X = pd.read_csv('dataset/flight-weather.csv', nrows =10000)\n",
    "X.drop(['dep_delay','carrier','tailnum','origin','dest'],axis=1,inplace=True)\n",
    "# X = pd.read_csv('dataset/flight-weather.csv', usecols=['dep_delay','dep_time', 'HOURLYVISIBILITY', 'HOURLYWindSpeed',\n",
    "#        'HOURLYPrecip', 'HOURLYRelativeHumidity'], nrows =1000)\n",
    "y = pd.read_csv('dataset/flight-weather.csv', usecols= ['dep_delay'], nrows =10000).values\n",
    "y[y <= 0] = np.False_\n",
    "y[y > 0] = np.True_"
   ]
  },
  {
   "cell_type": "markdown",
   "metadata": {},
   "source": []
  },
  {
   "cell_type": "markdown",
   "metadata": {},
   "source": [
    "# Linear classifier"
   ]
  },
  {
   "cell_type": "code",
   "execution_count": 4,
   "metadata": {},
   "outputs": [],
   "source": [
    "from sklearn.model_selection import train_test_split\n",
    "X_train, X_test, y_train, y_test = train_test_split(X, y, test_size = 0.3)"
   ]
  },
  {
   "cell_type": "code",
   "execution_count": 5,
   "metadata": {},
   "outputs": [],
   "source": [
    "from sklearn.linear_model import LogisticRegression\n",
    "from sklearn.model_selection import cross_val_score\n",
    "from sklearn.model_selection import cross_val_predict\n",
    "from sklearn.metrics import confusion_matrix\n",
    "import sklearn.metrics as metrics"
   ]
  },
  {
   "cell_type": "markdown",
   "metadata": {},
   "source": [
    "### split dataset"
   ]
  },
  {
   "cell_type": "code",
   "execution_count": 6,
   "metadata": {},
   "outputs": [
    {
     "name": "stdout",
     "output_type": "stream",
     "text": [
      "0.8036666666666666\n",
      "              precision    recall  f1-score   support\n",
      "\n",
      "   non delay       0.80      0.90      0.85      1817\n",
      "       delay       0.81      0.66      0.73      1183\n",
      "\n",
      "    accuracy                           0.80      3000\n",
      "   macro avg       0.80      0.78      0.79      3000\n",
      "weighted avg       0.80      0.80      0.80      3000\n",
      "\n"
     ]
    }
   ],
   "source": [
    "\n",
    "model1 = LogisticRegression()\n",
    "model1.fit(X_train, y_train)\n",
    "\n",
    "print(model1.score(X_test, y_test))\n",
    "y_pred1 = model1.predict(X_test)\n",
    "\n",
    "print(metrics.classification_report(y_test, y_pred1, target_names=['non delay','delay']))"
   ]
  },
  {
   "cell_type": "markdown",
   "metadata": {},
   "source": [
    "### 10-fold cross-validation"
   ]
  },
  {
   "cell_type": "code",
   "execution_count": 7,
   "metadata": {},
   "outputs": [
    {
     "name": "stdout",
     "output_type": "stream",
     "text": [
      "[0.78       0.80333333 0.80666667 0.79333333 0.82       0.81666667\n",
      " 0.79666667 0.83       0.78333333 0.80333333]\n",
      "average: 0.8033333333333333\n"
     ]
    }
   ],
   "source": [
    "model2 = LogisticRegression()\n",
    "model2.fit(X_train, y_train)\n",
    "y_pred2 = cross_val_score(model2, X_test, y_test, cv=10)\n",
    "print(y_pred2)\n",
    "print('average: ' + str(np.average(y_pred2)))"
   ]
  },
  {
   "cell_type": "markdown",
   "metadata": {},
   "source": [
    "### linearly separable"
   ]
  },
  {
   "cell_type": "code",
   "execution_count": 8,
   "metadata": {},
   "outputs": [
    {
     "name": "stdout",
     "output_type": "stream",
     "text": [
      "0.7459\n",
      "[0.71285714 0.68571429 0.70857143 0.70857143 0.76714286 0.70142857\n",
      " 0.70714286 0.74714286 0.76       0.73857143]\n",
      "average accuracy: 0.7237142857142856\n"
     ]
    }
   ],
   "source": [
    "from sklearn.linear_model import Perceptron\n",
    "model3 = Perceptron(tol=1e-3, random_state=0)\n",
    "model3.fit(X, y)\n",
    "print(model3.score(X, y))\n",
    "\n",
    "y_pred3 = cross_val_score(model3, X_train, y_train, cv=10, scoring=\"accuracy\")\n",
    "print(y_pred3)\n",
    "print('average accuracy: ' + str(np.average(y_pred3)))\n"
   ]
  },
  {
   "cell_type": "markdown",
   "metadata": {},
   "source": [
    "## summary:\n",
    "#### Both score and accuracy are not high, so my dataset is not linearly separable"
   ]
  },
  {
   "cell_type": "code",
   "execution_count": null,
   "metadata": {},
   "outputs": [],
   "source": []
  },
  {
   "cell_type": "markdown",
   "metadata": {},
   "source": [
    "# Multilayer Perceptron"
   ]
  },
  {
   "cell_type": "code",
   "execution_count": 9,
   "metadata": {},
   "outputs": [],
   "source": [
    "# ! conda install tensorflow"
   ]
  },
  {
   "cell_type": "code",
   "execution_count": 10,
   "metadata": {},
   "outputs": [
    {
     "name": "stdout",
     "output_type": "stream",
     "text": [
      "219/219 [==============================] - 1s 1ms/step - loss: 2.2666 - sparse_categorical_accuracy: 0.6020\n",
      "Accuracy:  0.6086666584014893\n"
     ]
    }
   ],
   "source": [
    "import tensorflow as tf\n",
    "import keras\n",
    "\n",
    "X_train, X_test, y_train, y_test = train_test_split(X, y, test_size = 0.3)\n",
    "\n",
    "#use models.Sequential() build neural network\n",
    "model4 = tf.keras.models.Sequential([\n",
    "    tf.keras.layers.Dense(100, activation = \"softmax\", kernel_regularizer = tf.keras.regularizers.l2()),\n",
    "    tf.keras.layers.Dense(80, activation = \"sigmoid\", kernel_regularizer = tf.keras.regularizers.l2()),\n",
    "    # tf.keras.layers.Dense(4, activation = \"tanh\", kernel_regularizer = tf.keras.regularizers.l2())\n",
    "])\n",
    "\n",
    "# compile  model\n",
    "model4.compile(\n",
    "    optimizer = tf.keras.optimizers.SGD(lr = 0.1), # SGD optimiser，learning rate0.1\n",
    "    loss = tf.keras.losses.SparseCategoricalCrossentropy(from_logits = False), #Configuration loss function\n",
    "    metrics = ['sparse_categorical_accuracy'] # Annotate network evaluation indicators\n",
    ")\n",
    " \n",
    "# model.fit()\n",
    "model4.fit(X_train, y_train)\n",
    "\n",
    "results4 = model4.evaluate(X_test,  y_test, verbose = 0)\n",
    "print('Accuracy: ', results4[1])"
   ]
  },
  {
   "cell_type": "code",
   "execution_count": 11,
   "metadata": {},
   "outputs": [
    {
     "name": "stdout",
     "output_type": "stream",
     "text": [
      "219/219 [==============================] - 1s 2ms/step - loss: 0.9166 - sparse_categorical_accuracy: 0.5919\n",
      "Accuracy:  0.612666666507721\n"
     ]
    }
   ],
   "source": [
    "X_train, X_test, y_train, y_test = train_test_split(X, y, test_size = 0.3)\n",
    "\n",
    "#use models.Sequential() build neural network\n",
    "model5 = tf.keras.models.Sequential([\n",
    "    tf.keras.layers.Dense(6, activation = \"softmax\", kernel_regularizer = tf.keras.regularizers.l2()),\n",
    "    tf.keras.layers.Dense(5, activation = \"sigmoid\", kernel_regularizer = tf.keras.regularizers.l2()),\n",
    "    tf.keras.layers.Dense(4, activation = \"sigmoid\", kernel_regularizer = tf.keras.regularizers.l2())\n",
    "])\n",
    " \n",
    "# compile  model\n",
    "model5.compile(\n",
    "    optimizer = tf.keras.optimizers.SGD(lr = 0.1), # SGD optimiser，learning rate0.1\n",
    "    loss = tf.keras.losses.SparseCategoricalCrossentropy(from_logits = False), #Configuration loss function\n",
    "    metrics = ['sparse_categorical_accuracy'] # Annotate network evaluation indicators\n",
    ")\n",
    " \n",
    "# model.fit()\n",
    "model5.fit(X_train, y_train)\n",
    "\n",
    "results5 = model5.evaluate(X_test,  y_test, verbose = 0)\n",
    "print('Accuracy: ', results5[1])"
   ]
  },
  {
   "cell_type": "code",
   "execution_count": 12,
   "metadata": {},
   "outputs": [
    {
     "name": "stdout",
     "output_type": "stream",
     "text": [
      "219/219 [==============================] - 1s 2ms/step - loss: 1.3663 - sparse_categorical_accuracy: 0.6071\n",
      "Accuracy:  0.6050000190734863\n"
     ]
    }
   ],
   "source": [
    "X_train, X_test, y_train, y_test = train_test_split(X, y, test_size = 0.3)\n",
    "\n",
    "#use models.Sequential() build neural network\n",
    "model6 = tf.keras.models.Sequential([\n",
    "    tf.keras.layers.Dense(60, activation = \"softmax\", kernel_regularizer = tf.keras.regularizers.l2()),\n",
    "    tf.keras.layers.Dense(50, activation = \"relu\", kernel_regularizer = tf.keras.regularizers.l2())\n",
    "])\n",
    " \n",
    "# compile  model\n",
    "model6.compile(\n",
    "    optimizer = tf.keras.optimizers.SGD(lr = 0.1), # SGD optimiser，learning rate0.1\n",
    "    loss = tf.keras.losses.SparseCategoricalCrossentropy(from_logits = False), #Configuration loss function\n",
    "    metrics = ['sparse_categorical_accuracy'] # Annotate network evaluation indicators\n",
    ")\n",
    "\n",
    "model6.fit(X_train, y_train)\n",
    "\n",
    "results = model6.evaluate(X_test,  y_test, verbose = 0)\n",
    "print('Accuracy: ', results[1])"
   ]
  },
  {
   "cell_type": "code",
   "execution_count": 13,
   "metadata": {},
   "outputs": [
    {
     "name": "stdout",
     "output_type": "stream",
     "text": [
      "219/219 [==============================] - 2s 6ms/step - loss: 3.7295 - sparse_categorical_accuracy: 0.5766\n",
      "Accuracy:  0.6146666407585144\n"
     ]
    }
   ],
   "source": [
    "X_train, X_test, y_train, y_test = train_test_split(X, y, test_size = 0.3)\n",
    "\n",
    "#use models.Sequential() build neural network\n",
    "model7 = tf.keras.models.Sequential([\n",
    "    tf.keras.layers.Dense(1000, activation = \"softmax\", kernel_regularizer = tf.keras.regularizers.l2()),\n",
    "    tf.keras.layers.Dense(80, activation = \"relu\", kernel_regularizer = tf.keras.regularizers.l2()),\n",
    "    tf.keras.layers.Dense(1000, activation = \"sigmoid\", kernel_regularizer = tf.keras.regularizers.l2())\n",
    "])\n",
    "\n",
    "# compile  model\n",
    "model7.compile(\n",
    "    optimizer = tf.keras.optimizers.SGD(lr = 0.1), # SGD optimiser，learning rate0.1\n",
    "    loss = tf.keras.losses.SparseCategoricalCrossentropy(from_logits = False), #Configuration loss function\n",
    "    metrics = ['sparse_categorical_accuracy'] # Annotate network evaluation indicators\n",
    ")\n",
    "\n",
    "model7.fit(X_train, y_train)\n",
    "\n",
    "results = model7.evaluate(X_test,  y_test, verbose = 0)\n",
    "print('Accuracy: ', results[1])"
   ]
  },
  {
   "cell_type": "code",
   "execution_count": null,
   "metadata": {},
   "outputs": [],
   "source": []
  },
  {
   "cell_type": "markdown",
   "metadata": {},
   "source": [
    "## summary:"
   ]
  },
  {
   "cell_type": "markdown",
   "metadata": {},
   "source": [
    "## My dataset has no linear separability"
   ]
  },
  {
   "cell_type": "markdown",
   "metadata": {},
   "source": [
    "## Although neural networks are the best suited to image datasets, so it haven't good perform in my purely number datasets."
   ]
  },
  {
   "cell_type": "markdown",
   "metadata": {},
   "source": [
    "## Activation function is to introduce the nonlinearity of the neural network. If dosn't added, the convolutional layer and the fully connected layer are just simple linear operations, only the upper layer data is linearly combined into the lower layer data, and there is still no solution to the linear inseparable problem."
   ]
  },
  {
   "cell_type": "code",
   "execution_count": null,
   "metadata": {},
   "outputs": [],
   "source": []
  },
  {
   "cell_type": "markdown",
   "metadata": {},
   "source": [
    "# Convolutional Neural Network "
   ]
  },
  {
   "cell_type": "code",
   "execution_count": 14,
   "metadata": {},
   "outputs": [],
   "source": [
    "import matplotlib.pyplot as plt"
   ]
  },
  {
   "cell_type": "code",
   "execution_count": 15,
   "metadata": {},
   "outputs": [],
   "source": [
    "from sklearn.preprocessing import StandardScaler\n",
    "scaler = StandardScaler()\n",
    "X_train = scaler.fit_transform(X_train)\n",
    "X_test = scaler.fit_transform(X_test)"
   ]
  },
  {
   "cell_type": "code",
   "execution_count": 16,
   "metadata": {},
   "outputs": [
    {
     "name": "stdout",
     "output_type": "stream",
     "text": [
      "Epoch 1/10\n",
      "219/219 [==============================] - 1s 4ms/step - loss: 3.9584 - accuracy: 0.5940 - val_loss: 3.5592 - val_accuracy: 0.6090\n",
      "Epoch 2/10\n",
      "219/219 [==============================] - 1s 3ms/step - loss: 3.0104 - accuracy: 0.6094 - val_loss: 2.5282 - val_accuracy: 0.6090\n",
      "Epoch 3/10\n",
      "219/219 [==============================] - 1s 3ms/step - loss: 2.2662 - accuracy: 0.6094 - val_loss: 1.9006 - val_accuracy: 0.6090\n",
      "Epoch 4/10\n",
      "219/219 [==============================] - 1s 3ms/step - loss: 1.8232 - accuracy: 0.6094 - val_loss: 1.4986 - val_accuracy: 0.6090\n",
      "Epoch 5/10\n",
      "219/219 [==============================] - 1s 3ms/step - loss: 1.5733 - accuracy: 0.6094 - val_loss: 1.2446 - val_accuracy: 0.6090\n",
      "Epoch 6/10\n",
      "219/219 [==============================] - 1s 3ms/step - loss: 1.3993 - accuracy: 0.6094 - val_loss: 1.0797 - val_accuracy: 0.6090\n",
      "Epoch 7/10\n",
      "219/219 [==============================] - 1s 3ms/step - loss: 1.2751 - accuracy: 0.6094 - val_loss: 0.9692 - val_accuracy: 0.6090\n",
      "Epoch 8/10\n",
      "219/219 [==============================] - 1s 3ms/step - loss: 1.2043 - accuracy: 0.6094 - val_loss: 0.8920 - val_accuracy: 0.6090\n",
      "Epoch 9/10\n",
      "219/219 [==============================] - 1s 3ms/step - loss: 1.1153 - accuracy: 0.6094 - val_loss: 0.8373 - val_accuracy: 0.6090\n",
      "Epoch 10/10\n",
      "219/219 [==============================] - 1s 3ms/step - loss: 1.0544 - accuracy: 0.6094 - val_loss: 0.7976 - val_accuracy: 0.6090\n",
      "94/94 - 0s - loss: 0.7976 - accuracy: 0.6090 - 117ms/epoch - 1ms/step\n",
      "0.609000027179718\n"
     ]
    },
    {
     "data": {
      "image/png": "[encoded data removed]",
      "text/plain": [
       "<Figure size 432x288 with 1 Axes>"
      ]
     },
     "metadata": {
      "needs_background": "light"
     },
     "output_type": "display_data"
    }
   ],
   "source": [
    "X_train, X_test, y_train, y_test = train_test_split(X, y, test_size = 0.3)\n",
    "\n",
    "cnn1 = tf.keras.models.Sequential(\n",
    "    [\n",
    "        keras.layers.Dense(\n",
    "            512, activation=\"relu\", input_shape=[27]\n",
    "        ),\n",
    "        keras.layers.Dense(100, activation=\"softmax\"),\n",
    "        keras.layers.Dropout(0.3),\n",
    "        keras.layers.Dense(80, activation=\"sigmoid\")\n",
    "    ]\n",
    ")\n",
    "\n",
    "cnn1.compile(optimizer='adam',\n",
    "              loss=tf.keras.losses.SparseCategoricalCrossentropy(from_logits=True),\n",
    "              metrics=['accuracy'])\n",
    "\n",
    "history1 = cnn1.fit(X_train, y_train, epochs=10, \n",
    "                    validation_data=(X_test, y_test))\n",
    "\n",
    "plt.plot(history1.history['accuracy'], label='accuracy')\n",
    "plt.plot(history1.history['val_accuracy'], label = 'val_accuracy')\n",
    "plt.xlabel('Epoch')\n",
    "plt.ylabel('Accuracy')\n",
    "plt.ylim([0.5, 1])\n",
    "plt.legend(loc='lower right')\n",
    "\n",
    "test_loss, test_acc = cnn1.evaluate(X_test,  y_test, verbose=2)\n",
    "print(test_acc)"
   ]
  },
  {
   "cell_type": "code",
   "execution_count": 17,
   "metadata": {},
   "outputs": [
    {
     "name": "stdout",
     "output_type": "stream",
     "text": [
      "Epoch 1/10\n",
      "219/219 [==============================] - 1s 4ms/step - loss: 1.3527 - accuracy: 0.3449 - val_loss: 1.2482 - val_accuracy: 0.4007\n",
      "Epoch 2/10\n",
      "219/219 [==============================] - 1s 3ms/step - loss: 1.2391 - accuracy: 0.4550 - val_loss: 1.1525 - val_accuracy: 0.5993\n",
      "Epoch 3/10\n",
      "219/219 [==============================] - 0s 2ms/step - loss: 1.1743 - accuracy: 0.5057 - val_loss: 1.0993 - val_accuracy: 0.5993\n",
      "Epoch 4/10\n",
      "219/219 [==============================] - 0s 2ms/step - loss: 1.1488 - accuracy: 0.5076 - val_loss: 1.0715 - val_accuracy: 0.5993\n",
      "Epoch 5/10\n",
      "219/219 [==============================] - 0s 2ms/step - loss: 1.1325 - accuracy: 0.5079 - val_loss: 1.0543 - val_accuracy: 0.5993\n",
      "Epoch 6/10\n",
      "219/219 [==============================] - 0s 2ms/step - loss: 1.1175 - accuracy: 0.5133 - val_loss: 1.0435 - val_accuracy: 0.5993\n",
      "Epoch 7/10\n",
      "219/219 [==============================] - 0s 2ms/step - loss: 1.1031 - accuracy: 0.5229 - val_loss: 1.0356 - val_accuracy: 0.5993\n",
      "Epoch 8/10\n",
      "219/219 [==============================] - 0s 2ms/step - loss: 1.1034 - accuracy: 0.5199 - val_loss: 1.0305 - val_accuracy: 0.5993\n",
      "Epoch 9/10\n",
      "219/219 [==============================] - 0s 2ms/step - loss: 1.1059 - accuracy: 0.5150 - val_loss: 1.0279 - val_accuracy: 0.5993\n",
      "Epoch 10/10\n",
      "219/219 [==============================] - 0s 2ms/step - loss: 1.1038 - accuracy: 0.5150 - val_loss: 1.0258 - val_accuracy: 0.5993\n",
      "94/94 - 0s - loss: 1.0258 - accuracy: 0.5993 - 80ms/epoch - 849us/step\n",
      "0.5993333458900452\n"
     ]
    },
    {
     "data": {
      "image/png": "[encoded data removed]",
      "text/plain": [
       "<Figure size 432x288 with 1 Axes>"
      ]
     },
     "metadata": {
      "needs_background": "light"
     },
     "output_type": "display_data"
    }
   ],
   "source": [
    "\n",
    "X_train, X_test, y_train, y_test = train_test_split(X, y, test_size = 0.3)\n",
    "\n",
    "cnn2 = tf.keras.models.Sequential(\n",
    "    [\n",
    "        keras.layers.Dense(\n",
    "            512, activation=\"relu\", input_shape=[27]\n",
    "        ),\n",
    "        keras.layers.Dense(6, activation=\"softmax\"),\n",
    "        keras.layers.Dropout(0.3),\n",
    "        keras.layers.Dense(5, activation=\"sigmoid\"),\n",
    "        keras.layers.Dropout(0.3),\n",
    "        keras.layers.Dense(4, activation=\"sigmoid\"),\n",
    "        keras.layers.Dropout(0.3),\n",
    "    ]\n",
    ")\n",
    "\n",
    "cnn2.compile(optimizer='adam',\n",
    "              loss=tf.keras.losses.SparseCategoricalCrossentropy(from_logits=True),\n",
    "              metrics=['accuracy'])\n",
    "\n",
    "history2 = cnn2.fit(X_train, y_train, epochs=10, \n",
    "                    validation_data=(X_test, y_test))\n",
    "\n",
    "plt.plot(history2.history['accuracy'], label='accuracy')\n",
    "plt.plot(history2.history['val_accuracy'], label = 'val_accuracy')\n",
    "plt.xlabel('Epoch')\n",
    "plt.ylabel('Accuracy')\n",
    "plt.ylim([0.5, 1])\n",
    "plt.legend(loc='lower right')\n",
    "\n",
    "test_loss, test_acc = cnn2.evaluate(X_test,  y_test, verbose=2)\n",
    "print(test_acc)\n",
    "\n"
   ]
  },
  {
   "cell_type": "code",
   "execution_count": 18,
   "metadata": {},
   "outputs": [
    {
     "name": "stdout",
     "output_type": "stream",
     "text": [
      "Epoch 1/10\n",
      "219/219 [==============================] - 1s 3ms/step - loss: 3.6002 - accuracy: 0.5597 - val_loss: 3.3669 - val_accuracy: 0.6063\n",
      "Epoch 2/10\n",
      "219/219 [==============================] - 1s 3ms/step - loss: 3.1668 - accuracy: 0.6106 - val_loss: 2.9743 - val_accuracy: 0.6063\n",
      "Epoch 3/10\n",
      "219/219 [==============================] - 1s 3ms/step - loss: 2.7980 - accuracy: 0.6106 - val_loss: 2.6145 - val_accuracy: 0.6063\n",
      "Epoch 4/10\n",
      "219/219 [==============================] - 1s 2ms/step - loss: 2.4707 - accuracy: 0.6106 - val_loss: 2.2928 - val_accuracy: 0.6063\n",
      "Epoch 5/10\n",
      "219/219 [==============================] - 1s 3ms/step - loss: 2.1924 - accuracy: 0.6106 - val_loss: 2.0129 - val_accuracy: 0.6063\n",
      "Epoch 6/10\n",
      "219/219 [==============================] - 1s 4ms/step - loss: 1.9535 - accuracy: 0.6106 - val_loss: 1.7760 - val_accuracy: 0.6063\n",
      "Epoch 7/10\n",
      "219/219 [==============================] - 1s 4ms/step - loss: 1.7658 - accuracy: 0.6106 - val_loss: 1.5801 - val_accuracy: 0.6063\n",
      "Epoch 8/10\n",
      "219/219 [==============================] - 1s 3ms/step - loss: 1.6022 - accuracy: 0.6106 - val_loss: 1.4205 - val_accuracy: 0.6063\n",
      "Epoch 9/10\n",
      "219/219 [==============================] - 1s 4ms/step - loss: 1.4765 - accuracy: 0.6106 - val_loss: 1.2914 - val_accuracy: 0.6063\n",
      "Epoch 10/10\n",
      "219/219 [==============================] - 1s 3ms/step - loss: 1.3778 - accuracy: 0.6106 - val_loss: 1.1872 - val_accuracy: 0.6063\n",
      "94/94 - 0s - loss: 1.1872 - accuracy: 0.6063 - 120ms/epoch - 1ms/step\n",
      "0.606333315372467\n"
     ]
    },
    {
     "data": {
      "image/png": "[encoded data removed]",
      "text/plain": [
       "<Figure size 432x288 with 1 Axes>"
      ]
     },
     "metadata": {
      "needs_background": "light"
     },
     "output_type": "display_data"
    }
   ],
   "source": [
    "\n",
    "X_train, X_test, y_train, y_test = train_test_split(X, y, test_size = 0.3)\n",
    "\n",
    "cnn3 = tf.keras.models.Sequential(\n",
    "    [\n",
    "        keras.layers.Dense(\n",
    "            512, activation=\"relu\", input_shape=[27]\n",
    "        ),\n",
    "        keras.layers.Dense(60, activation=\"softmax\"),\n",
    "        keras.layers.Dropout(0.3),\n",
    "        keras.layers.Dense(50, activation=\"relu\")\n",
    "    ]\n",
    ")\n",
    "\n",
    "cnn3.compile(optimizer='adam',\n",
    "              loss=tf.keras.losses.SparseCategoricalCrossentropy(from_logits=True),\n",
    "              metrics=['accuracy'])\n",
    "\n",
    "history3 = cnn3.fit(X_train, y_train, epochs=10, \n",
    "                    validation_data=(X_test, y_test))\n",
    "\n",
    "plt.plot(history3.history['accuracy'], label='accuracy')\n",
    "plt.plot(history3.history['val_accuracy'], label = 'val_accuracy')\n",
    "plt.xlabel('Epoch')\n",
    "plt.ylabel('Accuracy')\n",
    "plt.ylim([0.5, 1])\n",
    "plt.legend(loc='lower right')\n",
    "\n",
    "test_loss, test_acc = cnn3.evaluate(X_test,  y_test, verbose=2)\n",
    "print(test_acc)\n",
    "\n"
   ]
  },
  {
   "cell_type": "code",
   "execution_count": 19,
   "metadata": {},
   "outputs": [
    {
     "name": "stdout",
     "output_type": "stream",
     "text": [
      "Epoch 1/10\n",
      "219/219 [==============================] - 2s 10ms/step - loss: 6.3843 - accuracy: 0.4950 - val_loss: 5.9440 - val_accuracy: 0.6107\n",
      "Epoch 2/10\n",
      "219/219 [==============================] - 2s 9ms/step - loss: 5.9317 - accuracy: 0.5133 - val_loss: 5.9150 - val_accuracy: 0.6107\n",
      "Epoch 3/10\n",
      "219/219 [==============================] - 2s 7ms/step - loss: 5.9261 - accuracy: 0.5039 - val_loss: 5.9124 - val_accuracy: 0.6107\n",
      "Epoch 4/10\n",
      "219/219 [==============================] - 2s 9ms/step - loss: 5.9265 - accuracy: 0.4990 - val_loss: 5.9117 - val_accuracy: 0.6107\n",
      "Epoch 5/10\n",
      "219/219 [==============================] - 2s 9ms/step - loss: 5.9187 - accuracy: 0.5069 - val_loss: 5.9115 - val_accuracy: 0.6107\n",
      "Epoch 6/10\n",
      "219/219 [==============================] - 2s 11ms/step - loss: 5.9183 - accuracy: 0.5040 - val_loss: 5.9114 - val_accuracy: 0.6107\n",
      "Epoch 7/10\n",
      "219/219 [==============================] - 2s 9ms/step - loss: 5.9001 - accuracy: 0.5166 - val_loss: 5.9113 - val_accuracy: 0.6107\n",
      "Epoch 8/10\n",
      "219/219 [==============================] - 3s 12ms/step - loss: 5.9331 - accuracy: 0.5036 - val_loss: 5.9113 - val_accuracy: 0.6107\n",
      "Epoch 9/10\n",
      "219/219 [==============================] - 2s 10ms/step - loss: 5.9150 - accuracy: 0.5123 - val_loss: 5.9112 - val_accuracy: 0.6107\n",
      "Epoch 10/10\n",
      "219/219 [==============================] - 2s 11ms/step - loss: 5.9044 - accuracy: 0.5060 - val_loss: 5.9112 - val_accuracy: 0.6107\n",
      "94/94 - 0s - loss: 5.9112 - accuracy: 0.6107 - 351ms/epoch - 4ms/step\n",
      "0.6106666922569275\n"
     ]
    },
    {
     "data": {
      "image/png": "[encoded data removed]",
      "text/plain": [
       "<Figure size 432x288 with 1 Axes>"
      ]
     },
     "metadata": {
      "needs_background": "light"
     },
     "output_type": "display_data"
    }
   ],
   "source": [
    "\n",
    "X_train, X_test, y_train, y_test = train_test_split(X, y, test_size = 0.3)\n",
    "\n",
    "cnn4 = tf.keras.models.Sequential(\n",
    "    [\n",
    "        keras.layers.Dense(\n",
    "            512, activation=\"relu\", input_shape=[27]\n",
    "        ),\n",
    "        keras.layers.Dense(1000, activation=\"softmax\"),\n",
    "        keras.layers.Dropout(0.3),\n",
    "        keras.layers.Dense(80, activation=\"relu\"),\n",
    "        keras.layers.Dropout(0.3),\n",
    "        keras.layers.Dense(1000, activation=\"sigmoid\"),\n",
    "        keras.layers.Dropout(0.3),\n",
    "    ]\n",
    ")\n",
    "\n",
    "cnn4.compile(optimizer='adam',\n",
    "              loss=tf.keras.losses.SparseCategoricalCrossentropy(from_logits=True),\n",
    "              metrics=['accuracy'])\n",
    "\n",
    "history4 = cnn4.fit(X_train, y_train, epochs=10, \n",
    "                    validation_data=(X_test, y_test))\n",
    "\n",
    "plt.plot(history4.history['accuracy'], label='accuracy')\n",
    "plt.plot(history4.history['val_accuracy'], label = 'val_accuracy')\n",
    "plt.xlabel('Epoch')\n",
    "plt.ylabel('Accuracy')\n",
    "plt.ylim([0.5, 1])\n",
    "plt.legend(loc='lower right')\n",
    "\n",
    "test_loss, test_acc = cnn4.evaluate(X_test,  y_test, verbose=2)\n",
    "print(test_acc)\n",
    "\n"
   ]
  },
  {
   "cell_type": "code",
   "execution_count": 20,
   "metadata": {},
   "outputs": [
    {
     "data": {
      "text/html": [
       "<div>\n",
       "<style scoped>\n",
       "    .dataframe tbody tr th:only-of-type {\n",
       "        vertical-align: middle;\n",
       "    }\n",
       "\n",
       "    .dataframe tbody tr th {\n",
       "        vertical-align: top;\n",
       "    }\n",
       "\n",
       "    .dataframe thead th {\n",
       "        text-align: right;\n",
       "    }\n",
       "</style>\n",
       "<table border=\"1\" class=\"dataframe\">\n",
       "  <thead>\n",
       "    <tr style=\"text-align: right;\">\n",
       "      <th></th>\n",
       "      <th>Unnamed: 0</th>\n",
       "      <th>HOURLYVISIBILITY</th>\n",
       "      <th>HOURLYWindSpeed</th>\n",
       "      <th>HOURLYPrecip</th>\n",
       "      <th>HOURLYRelativeHumidity</th>\n",
       "      <th>HOURLYDRYBULBTEMPF</th>\n",
       "      <th>HOURLYWETBULBTEMPF</th>\n",
       "      <th>HOURLYDewPointTempF</th>\n",
       "      <th>HOURLYStationPressure</th>\n",
       "      <th>HOURLYSeaLevelPressure</th>\n",
       "      <th>...</th>\n",
       "      <th>month</th>\n",
       "      <th>day</th>\n",
       "      <th>dep_time</th>\n",
       "      <th>arr_time</th>\n",
       "      <th>arr_delay</th>\n",
       "      <th>flight</th>\n",
       "      <th>air_time</th>\n",
       "      <th>distance</th>\n",
       "      <th>hour</th>\n",
       "      <th>minute</th>\n",
       "    </tr>\n",
       "  </thead>\n",
       "  <tbody>\n",
       "    <tr>\n",
       "      <th>0</th>\n",
       "      <td>0</td>\n",
       "      <td>10.0</td>\n",
       "      <td>6.0</td>\n",
       "      <td>0.00</td>\n",
       "      <td>76.0</td>\n",
       "      <td>80.0</td>\n",
       "      <td>75.0</td>\n",
       "      <td>72.0</td>\n",
       "      <td>29.81</td>\n",
       "      <td>29.83</td>\n",
       "      <td>...</td>\n",
       "      <td>6</td>\n",
       "      <td>30</td>\n",
       "      <td>940</td>\n",
       "      <td>1216</td>\n",
       "      <td>-4</td>\n",
       "      <td>407</td>\n",
       "      <td>313</td>\n",
       "      <td>2475</td>\n",
       "      <td>9</td>\n",
       "      <td>40</td>\n",
       "    </tr>\n",
       "    <tr>\n",
       "      <th>1</th>\n",
       "      <td>1</td>\n",
       "      <td>10.0</td>\n",
       "      <td>11.0</td>\n",
       "      <td>0.00</td>\n",
       "      <td>68.0</td>\n",
       "      <td>67.0</td>\n",
       "      <td>61.0</td>\n",
       "      <td>56.0</td>\n",
       "      <td>30.09</td>\n",
       "      <td>30.11</td>\n",
       "      <td>...</td>\n",
       "      <td>5</td>\n",
       "      <td>7</td>\n",
       "      <td>1657</td>\n",
       "      <td>2104</td>\n",
       "      <td>10</td>\n",
       "      <td>329</td>\n",
       "      <td>216</td>\n",
       "      <td>1598</td>\n",
       "      <td>16</td>\n",
       "      <td>57</td>\n",
       "    </tr>\n",
       "    <tr>\n",
       "      <th>2</th>\n",
       "      <td>2</td>\n",
       "      <td>10.0</td>\n",
       "      <td>6.0</td>\n",
       "      <td>0.00</td>\n",
       "      <td>56.0</td>\n",
       "      <td>31.0</td>\n",
       "      <td>27.0</td>\n",
       "      <td>17.0</td>\n",
       "      <td>30.58</td>\n",
       "      <td>30.60</td>\n",
       "      <td>...</td>\n",
       "      <td>12</td>\n",
       "      <td>8</td>\n",
       "      <td>859</td>\n",
       "      <td>1238</td>\n",
       "      <td>11</td>\n",
       "      <td>422</td>\n",
       "      <td>376</td>\n",
       "      <td>2475</td>\n",
       "      <td>8</td>\n",
       "      <td>59</td>\n",
       "    </tr>\n",
       "    <tr>\n",
       "      <th>3</th>\n",
       "      <td>3</td>\n",
       "      <td>10.0</td>\n",
       "      <td>14.0</td>\n",
       "      <td>0.00</td>\n",
       "      <td>57.0</td>\n",
       "      <td>54.0</td>\n",
       "      <td>47.0</td>\n",
       "      <td>39.0</td>\n",
       "      <td>30.03</td>\n",
       "      <td>30.05</td>\n",
       "      <td>...</td>\n",
       "      <td>5</td>\n",
       "      <td>14</td>\n",
       "      <td>1841</td>\n",
       "      <td>2122</td>\n",
       "      <td>-34</td>\n",
       "      <td>2391</td>\n",
       "      <td>135</td>\n",
       "      <td>1005</td>\n",
       "      <td>18</td>\n",
       "      <td>41</td>\n",
       "    </tr>\n",
       "    <tr>\n",
       "      <th>4</th>\n",
       "      <td>4</td>\n",
       "      <td>10.0</td>\n",
       "      <td>9.0</td>\n",
       "      <td>0.00</td>\n",
       "      <td>42.0</td>\n",
       "      <td>87.0</td>\n",
       "      <td>70.0</td>\n",
       "      <td>61.0</td>\n",
       "      <td>29.92</td>\n",
       "      <td>29.94</td>\n",
       "      <td>...</td>\n",
       "      <td>7</td>\n",
       "      <td>21</td>\n",
       "      <td>1102</td>\n",
       "      <td>1230</td>\n",
       "      <td>-8</td>\n",
       "      <td>3652</td>\n",
       "      <td>50</td>\n",
       "      <td>296</td>\n",
       "      <td>11</td>\n",
       "      <td>2</td>\n",
       "    </tr>\n",
       "    <tr>\n",
       "      <th>...</th>\n",
       "      <td>...</td>\n",
       "      <td>...</td>\n",
       "      <td>...</td>\n",
       "      <td>...</td>\n",
       "      <td>...</td>\n",
       "      <td>...</td>\n",
       "      <td>...</td>\n",
       "      <td>...</td>\n",
       "      <td>...</td>\n",
       "      <td>...</td>\n",
       "      <td>...</td>\n",
       "      <td>...</td>\n",
       "      <td>...</td>\n",
       "      <td>...</td>\n",
       "      <td>...</td>\n",
       "      <td>...</td>\n",
       "      <td>...</td>\n",
       "      <td>...</td>\n",
       "      <td>...</td>\n",
       "      <td>...</td>\n",
       "      <td>...</td>\n",
       "    </tr>\n",
       "    <tr>\n",
       "      <th>9995</th>\n",
       "      <td>9995</td>\n",
       "      <td>10.0</td>\n",
       "      <td>18.0</td>\n",
       "      <td>0.00</td>\n",
       "      <td>32.0</td>\n",
       "      <td>36.0</td>\n",
       "      <td>28.0</td>\n",
       "      <td>9.0</td>\n",
       "      <td>29.68</td>\n",
       "      <td>29.70</td>\n",
       "      <td>...</td>\n",
       "      <td>3</td>\n",
       "      <td>21</td>\n",
       "      <td>2056</td>\n",
       "      <td>2247</td>\n",
       "      <td>1</td>\n",
       "      <td>4672</td>\n",
       "      <td>135</td>\n",
       "      <td>872</td>\n",
       "      <td>20</td>\n",
       "      <td>56</td>\n",
       "    </tr>\n",
       "    <tr>\n",
       "      <th>9996</th>\n",
       "      <td>9996</td>\n",
       "      <td>10.0</td>\n",
       "      <td>7.0</td>\n",
       "      <td>0.00</td>\n",
       "      <td>66.0</td>\n",
       "      <td>50.0</td>\n",
       "      <td>45.0</td>\n",
       "      <td>39.0</td>\n",
       "      <td>30.12</td>\n",
       "      <td>30.14</td>\n",
       "      <td>...</td>\n",
       "      <td>10</td>\n",
       "      <td>21</td>\n",
       "      <td>653</td>\n",
       "      <td>1002</td>\n",
       "      <td>1</td>\n",
       "      <td>1879</td>\n",
       "      <td>158</td>\n",
       "      <td>1076</td>\n",
       "      <td>6</td>\n",
       "      <td>53</td>\n",
       "    </tr>\n",
       "    <tr>\n",
       "      <th>9997</th>\n",
       "      <td>9997</td>\n",
       "      <td>4.0</td>\n",
       "      <td>15.0</td>\n",
       "      <td>0.03</td>\n",
       "      <td>89.0</td>\n",
       "      <td>39.0</td>\n",
       "      <td>38.0</td>\n",
       "      <td>36.0</td>\n",
       "      <td>29.91</td>\n",
       "      <td>29.93</td>\n",
       "      <td>...</td>\n",
       "      <td>2</td>\n",
       "      <td>23</td>\n",
       "      <td>1951</td>\n",
       "      <td>55</td>\n",
       "      <td>60</td>\n",
       "      <td>1613</td>\n",
       "      <td>189</td>\n",
       "      <td>1598</td>\n",
       "      <td>19</td>\n",
       "      <td>51</td>\n",
       "    </tr>\n",
       "    <tr>\n",
       "      <th>9998</th>\n",
       "      <td>9998</td>\n",
       "      <td>10.0</td>\n",
       "      <td>17.0</td>\n",
       "      <td>0.00</td>\n",
       "      <td>39.0</td>\n",
       "      <td>70.0</td>\n",
       "      <td>56.0</td>\n",
       "      <td>44.0</td>\n",
       "      <td>29.74</td>\n",
       "      <td>29.76</td>\n",
       "      <td>...</td>\n",
       "      <td>5</td>\n",
       "      <td>16</td>\n",
       "      <td>1600</td>\n",
       "      <td>1712</td>\n",
       "      <td>60</td>\n",
       "      <td>3404</td>\n",
       "      <td>44</td>\n",
       "      <td>187</td>\n",
       "      <td>16</td>\n",
       "      <td>0</td>\n",
       "    </tr>\n",
       "    <tr>\n",
       "      <th>9999</th>\n",
       "      <td>9999</td>\n",
       "      <td>10.0</td>\n",
       "      <td>20.0</td>\n",
       "      <td>0.00</td>\n",
       "      <td>36.0</td>\n",
       "      <td>40.0</td>\n",
       "      <td>32.0</td>\n",
       "      <td>15.0</td>\n",
       "      <td>30.11</td>\n",
       "      <td>30.13</td>\n",
       "      <td>...</td>\n",
       "      <td>2</td>\n",
       "      <td>6</td>\n",
       "      <td>1559</td>\n",
       "      <td>1854</td>\n",
       "      <td>-18</td>\n",
       "      <td>1200</td>\n",
       "      <td>333</td>\n",
       "      <td>2425</td>\n",
       "      <td>15</td>\n",
       "      <td>59</td>\n",
       "    </tr>\n",
       "  </tbody>\n",
       "</table>\n",
       "<p>10000 rows × 27 columns</p>\n",
       "</div>"
      ],
      "text/plain": [
       "      Unnamed: 0  HOURLYVISIBILITY  HOURLYWindSpeed  HOURLYPrecip  \\\n",
       "0              0              10.0              6.0          0.00   \n",
       "1              1              10.0             11.0          0.00   \n",
       "2              2              10.0              6.0          0.00   \n",
       "3              3              10.0             14.0          0.00   \n",
       "4              4              10.0              9.0          0.00   \n",
       "...          ...               ...              ...           ...   \n",
       "9995        9995              10.0             18.0          0.00   \n",
       "9996        9996              10.0              7.0          0.00   \n",
       "9997        9997               4.0             15.0          0.03   \n",
       "9998        9998              10.0             17.0          0.00   \n",
       "9999        9999              10.0             20.0          0.00   \n",
       "\n",
       "      HOURLYRelativeHumidity  HOURLYDRYBULBTEMPF  HOURLYWETBULBTEMPF  \\\n",
       "0                       76.0                80.0                75.0   \n",
       "1                       68.0                67.0                61.0   \n",
       "2                       56.0                31.0                27.0   \n",
       "3                       57.0                54.0                47.0   \n",
       "4                       42.0                87.0                70.0   \n",
       "...                      ...                 ...                 ...   \n",
       "9995                    32.0                36.0                28.0   \n",
       "9996                    66.0                50.0                45.0   \n",
       "9997                    89.0                39.0                38.0   \n",
       "9998                    39.0                70.0                56.0   \n",
       "9999                    36.0                40.0                32.0   \n",
       "\n",
       "      HOURLYDewPointTempF  HOURLYStationPressure  HOURLYSeaLevelPressure  ...  \\\n",
       "0                    72.0                  29.81                   29.83  ...   \n",
       "1                    56.0                  30.09                   30.11  ...   \n",
       "2                    17.0                  30.58                   30.60  ...   \n",
       "3                    39.0                  30.03                   30.05  ...   \n",
       "4                    61.0                  29.92                   29.94  ...   \n",
       "...                   ...                    ...                     ...  ...   \n",
       "9995                  9.0                  29.68                   29.70  ...   \n",
       "9996                 39.0                  30.12                   30.14  ...   \n",
       "9997                 36.0                  29.91                   29.93  ...   \n",
       "9998                 44.0                  29.74                   29.76  ...   \n",
       "9999                 15.0                  30.11                   30.13  ...   \n",
       "\n",
       "      month  day  dep_time  arr_time  arr_delay  flight  air_time  distance  \\\n",
       "0         6   30       940      1216         -4     407       313      2475   \n",
       "1         5    7      1657      2104         10     329       216      1598   \n",
       "2        12    8       859      1238         11     422       376      2475   \n",
       "3         5   14      1841      2122        -34    2391       135      1005   \n",
       "4         7   21      1102      1230         -8    3652        50       296   \n",
       "...     ...  ...       ...       ...        ...     ...       ...       ...   \n",
       "9995      3   21      2056      2247          1    4672       135       872   \n",
       "9996     10   21       653      1002          1    1879       158      1076   \n",
       "9997      2   23      1951        55         60    1613       189      1598   \n",
       "9998      5   16      1600      1712         60    3404        44       187   \n",
       "9999      2    6      1559      1854        -18    1200       333      2425   \n",
       "\n",
       "      hour  minute  \n",
       "0        9      40  \n",
       "1       16      57  \n",
       "2        8      59  \n",
       "3       18      41  \n",
       "4       11       2  \n",
       "...    ...     ...  \n",
       "9995    20      56  \n",
       "9996     6      53  \n",
       "9997    19      51  \n",
       "9998    16       0  \n",
       "9999    15      59  \n",
       "\n",
       "[10000 rows x 27 columns]"
      ]
     },
     "execution_count": 20,
     "metadata": {},
     "output_type": "execute_result"
    }
   ],
   "source": [
    "X"
   ]
  }
 ],
 "metadata": {
  "interpreter": {
   "hash": "c7f0eff47e976ffd278432ca58e86309fa0a3c18b8fa2d8345190506f8a63e10"
  },
  "kernelspec": {
   "display_name": "Python 3.8.8 64-bit ('base': conda)",
   "name": "python3"
  },
  "language_info": {
   "codemirror_mode": {
    "name": "ipython",
    "version": 3
   },
   "file_extension": ".py",
   "mimetype": "text/x-python",
   "name": "python",
   "nbconvert_exporter": "python",
   "pygments_lexer": "ipython3",
   "version": "3.8.8"
  },
  "orig_nbformat": 4
 },
 "nbformat": 4,
 "nbformat_minor": 2
}
