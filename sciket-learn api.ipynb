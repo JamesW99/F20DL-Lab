{
 "cells": [
  {
   "cell_type": "code",
   "execution_count": 1,
   "id": "bb735f40",
   "metadata": {},
   "outputs": [],
   "source": [
    "import warnings\n",
    "warnings.filterwarnings('ignore')"
   ]
  },
  {
   "cell_type": "code",
   "execution_count": 2,
   "id": "18bff885",
   "metadata": {},
   "outputs": [],
   "source": [
    "import pandas as pd\n",
    "import numpy as np\n",
    "\n",
    "from sklearn.naive_bayes import BernoulliNB\n",
    "from sklearn.naive_bayes import MultinomialNB\n",
    "from sklearn.naive_bayes import GaussianNB\n",
    "\n",
    "# model = MultinomialNB()\n",
    "model = BernoulliNB()\n",
    "# model = GaussianNB()"
   ]
  },
  {
   "cell_type": "code",
   "execution_count": 3,
   "id": "793eb452",
   "metadata": {},
   "outputs": [],
   "source": [
    "data = pd.read_csv('dataset/flight-weather.csv')\n",
    "# data.keys()"
   ]
  },
  {
   "cell_type": "markdown",
   "id": "68005825",
   "metadata": {},
   "source": [
    "# BernoulliNB"
   ]
  },
  {
   "cell_type": "code",
   "execution_count": 37,
   "id": "394dcfc7",
   "metadata": {},
   "outputs": [],
   "source": [
    "# drop some useless and cant handle data\n",
    "X = data.drop([ 'arr_delay', 'arr_time', 'minute', 'HOURLYStationPressure', 'carrier', 'tailnum', 'dest'], axis = 1)"
   ]
  },
  {
   "cell_type": "markdown",
   "id": "0d2c89ef",
   "metadata": {},
   "source": [
    "#### Normalise the data"
   ]
  },
  {
   "cell_type": "code",
   "execution_count": 76,
   "id": "57b75264",
   "metadata": {},
   "outputs": [],
   "source": [
    "Y = pd.read_csv('dataset/flight-weather.csv', usecols=['arr_delay'])\n",
    "y = np.ravel(Y)"
   ]
  },
  {
   "cell_type": "code",
   "execution_count": 90,
   "id": "ec6ad2b8",
   "metadata": {},
   "outputs": [
    {
     "data": {
      "text/plain": [
       "StandardScaler()"
      ]
     },
     "execution_count": 90,
     "metadata": {},
     "output_type": "execute_result"
    }
   ],
   "source": [
    "from sklearn import preprocessing\n",
    "preprocessing.MinMaxScaler().fit(X)\n",
    "preprocessing.StandardScaler().fit(X)"
   ]
  },
  {
   "cell_type": "code",
   "execution_count": 39,
   "id": "bbf57ef8",
   "metadata": {},
   "outputs": [],
   "source": [
    "# classify\n",
    "for i in y:\n",
    "    if(i <= 0):\n",
    "        y[i] = 0;\n",
    "    else:\n",
    "        y[i] = 1;\n",
    "        \n",
    "for v in range(len(y)):\n",
    "    if(X['origin'][v] == 'LGA'):\n",
    "        X['origin'][v] = 0;\n",
    "    elif(X['origin'][v] == 'EWR'):\n",
    "        X['origin'][v] = 1;\n",
    "    else:\n",
    "        X['origin'][v] = 2;"
   ]
  },
  {
   "cell_type": "markdown",
   "id": "7cfee7a0",
   "metadata": {},
   "source": [
    "##### Cross Validation with Bernoulli"
   ]
  },
  {
   "cell_type": "code",
   "execution_count": 91,
   "id": "9be3e45b",
   "metadata": {},
   "outputs": [
    {
     "data": {
      "text/plain": [
       "0.02929580072494807"
      ]
     },
     "execution_count": 91,
     "metadata": {},
     "output_type": "execute_result"
    }
   ],
   "source": [
    "from sklearn.model_selection import cross_val_score\n",
    "from statistics import mean\n",
    "mean(cross_val_score(model, X, y, cv=10, scoring=\"accuracy\", n_jobs=10))"
   ]
  },
  {
   "cell_type": "code",
   "execution_count": 92,
   "id": "ff3ef8f9",
   "metadata": {},
   "outputs": [],
   "source": [
    "from sklearn.model_selection import train_test_split\n",
    "train_X, test_X, train_y, test_y = train_test_split(X, y, test_size = 0.3, random_state = 101)"
   ]
  },
  {
   "cell_type": "code",
   "execution_count": 93,
   "id": "fa6dcf80",
   "metadata": {},
   "outputs": [
    {
     "data": {
      "text/plain": [
       "BernoulliNB()"
      ]
     },
     "execution_count": 93,
     "metadata": {},
     "output_type": "execute_result"
    }
   ],
   "source": [
    "model.fit(train_X, train_y)"
   ]
  },
  {
   "cell_type": "code",
   "execution_count": 95,
   "id": "e7ea80b2",
   "metadata": {},
   "outputs": [
    {
     "data": {
      "text/plain": [
       "array([-13, -13, -13, ..., -13,   1,   1])"
      ]
     },
     "execution_count": 95,
     "metadata": {},
     "output_type": "execute_result"
    }
   ],
   "source": [
    "model.predict(train_X)"
   ]
  },
  {
   "cell_type": "code",
   "execution_count": 22,
   "id": "a6dd135f",
   "metadata": {},
   "outputs": [],
   "source": [
    "from sklearn.base import BaseEstimator \n",
    "class Estimator (BaseEstimator): \n",
    "    def fit (self, X, y = None):\n",
    "        #Accept input data, X, and optional target data, y. Returns self.'''\n",
    "        return self\n",
    "    def predict(self, X):\n",
    "        #Accept input data, X and return a vector of predictions for each row.'''\n",
    "        return yhat\n",
    "    \n",
    "    \n",
    "from sklearn.base import TransformerMixin\n",
    "class Transfomer(BaseEstimator, TransformerMixin):\n",
    "    def fit(self, X, y=None):\n",
    "        #Learn how to transform data based on input data, X.'''\n",
    "        return self\n",
    "    def transform(self, X):\n",
    "        #Transform X into a new dataset, Xprimeand return it.'''\n",
    "        return Xprime"
   ]
  },
  {
   "cell_type": "markdown",
   "id": "fa68d546",
   "metadata": {},
   "source": [
    "## KNN"
   ]
  },
  {
   "cell_type": "code",
   "execution_count": 65,
   "id": "fcc020b0",
   "metadata": {},
   "outputs": [
    {
     "data": {
      "text/plain": [
       "KNeighborsClassifier()"
      ]
     },
     "execution_count": 65,
     "metadata": {},
     "output_type": "execute_result"
    }
   ],
   "source": [
    "from sklearn import neighbors\n",
    "knn = neighbors.KNeighborsClassifier()\n"
   ]
  },
  {
   "cell_type": "code",
   "execution_count": 97,
   "id": "52e09e74",
   "metadata": {},
   "outputs": [
    {
     "data": {
      "text/plain": [
       "KNeighborsClassifier()"
      ]
     },
     "execution_count": 97,
     "metadata": {},
     "output_type": "execute_result"
    }
   ],
   "source": [
    "X = pd.read_csv('dataset/flight-weather.csv', usecols=['dep_delay', 'distance'])\n",
    "\n",
    "for i in y:\n",
    "    if(i <= 0):\n",
    "        y[i] = 0;\n",
    "    else:\n",
    "        y[i] = 1;\n",
    "\n",
    "train_X, test_X, train_y, test_y = train_test_split(X, y, test_size = 0.3, random_state = 101)\n",
    "knn.fit(X, y)"
   ]
  },
  {
   "cell_type": "code",
   "execution_count": 100,
   "id": "db093ee2",
   "metadata": {},
   "outputs": [
    {
     "data": {
      "text/plain": [
       "array([-13, -13, -13, ..., -13,   1,   1])"
      ]
     },
     "execution_count": 100,
     "metadata": {},
     "output_type": "execute_result"
    }
   ],
   "source": [
    "model.predict(test_X)"
   ]
  },
  {
   "cell_type": "code",
   "execution_count": 87,
   "id": "7bc770b7",
   "metadata": {},
   "outputs": [
    {
     "data": {
      "text/html": [
       "<div>\n",
       "<style scoped>\n",
       "    .dataframe tbody tr th:only-of-type {\n",
       "        vertical-align: middle;\n",
       "    }\n",
       "\n",
       "    .dataframe tbody tr th {\n",
       "        vertical-align: top;\n",
       "    }\n",
       "\n",
       "    .dataframe thead th {\n",
       "        text-align: right;\n",
       "    }\n",
       "</style>\n",
       "<table border=\"1\" class=\"dataframe\">\n",
       "  <thead>\n",
       "    <tr style=\"text-align: right;\">\n",
       "      <th></th>\n",
       "      <th>dep_delay</th>\n",
       "      <th>distance</th>\n",
       "    </tr>\n",
       "  </thead>\n",
       "  <tbody>\n",
       "    <tr>\n",
       "      <th>24450</th>\n",
       "      <td>-3</td>\n",
       "      <td>1096</td>\n",
       "    </tr>\n",
       "    <tr>\n",
       "      <th>15353</th>\n",
       "      <td>-6</td>\n",
       "      <td>1389</td>\n",
       "    </tr>\n",
       "    <tr>\n",
       "      <th>4635</th>\n",
       "      <td>-5</td>\n",
       "      <td>184</td>\n",
       "    </tr>\n",
       "    <tr>\n",
       "      <th>30754</th>\n",
       "      <td>-6</td>\n",
       "      <td>746</td>\n",
       "    </tr>\n",
       "    <tr>\n",
       "      <th>9244</th>\n",
       "      <td>25</td>\n",
       "      <td>1096</td>\n",
       "    </tr>\n",
       "    <tr>\n",
       "      <th>...</th>\n",
       "      <td>...</td>\n",
       "      <td>...</td>\n",
       "    </tr>\n",
       "    <tr>\n",
       "      <th>27668</th>\n",
       "      <td>2</td>\n",
       "      <td>711</td>\n",
       "    </tr>\n",
       "    <tr>\n",
       "      <th>27331</th>\n",
       "      <td>-5</td>\n",
       "      <td>1372</td>\n",
       "    </tr>\n",
       "    <tr>\n",
       "      <th>10306</th>\n",
       "      <td>-3</td>\n",
       "      <td>2475</td>\n",
       "    </tr>\n",
       "    <tr>\n",
       "      <th>23309</th>\n",
       "      <td>6</td>\n",
       "      <td>1020</td>\n",
       "    </tr>\n",
       "    <tr>\n",
       "      <th>29437</th>\n",
       "      <td>29</td>\n",
       "      <td>431</td>\n",
       "    </tr>\n",
       "  </tbody>\n",
       "</table>\n",
       "<p>9821 rows × 2 columns</p>\n",
       "</div>"
      ],
      "text/plain": [
       "       dep_delay  distance\n",
       "24450         -3      1096\n",
       "15353         -6      1389\n",
       "4635          -5       184\n",
       "30754         -6       746\n",
       "9244          25      1096\n",
       "...          ...       ...\n",
       "27668          2       711\n",
       "27331         -5      1372\n",
       "10306         -3      2475\n",
       "23309          6      1020\n",
       "29437         29       431\n",
       "\n",
       "[9821 rows x 2 columns]"
      ]
     },
     "execution_count": 87,
     "metadata": {},
     "output_type": "execute_result"
    }
   ],
   "source": []
  },
  {
   "cell_type": "code",
   "execution_count": null,
   "id": "879395b7",
   "metadata": {},
   "outputs": [],
   "source": []
  },
  {
   "cell_type": "code",
   "execution_count": null,
   "id": "661c2459",
   "metadata": {},
   "outputs": [],
   "source": []
  },
  {
   "cell_type": "code",
   "execution_count": 81,
   "id": "55f75780",
   "metadata": {},
   "outputs": [
    {
     "data": {
      "text/plain": [
       "0.1471336931066083"
      ]
     },
     "execution_count": 81,
     "metadata": {},
     "output_type": "execute_result"
    }
   ],
   "source": [
    "knn.score(test_X, test_y, sample_weight=None)"
   ]
  },
  {
   "cell_type": "code",
   "execution_count": 82,
   "id": "d922cea2",
   "metadata": {},
   "outputs": [
    {
     "data": {
      "text/plain": [
       "array([0, 1, 1, ..., 0, 0, 0])"
      ]
     },
     "execution_count": 82,
     "metadata": {},
     "output_type": "execute_result"
    }
   ],
   "source": [
    "y"
   ]
  },
  {
   "cell_type": "code",
   "execution_count": null,
   "id": "ead59512",
   "metadata": {},
   "outputs": [],
   "source": []
  },
  {
   "cell_type": "code",
   "execution_count": null,
   "id": "daf361a9",
   "metadata": {},
   "outputs": [],
   "source": []
  }
 ],
 "metadata": {
  "kernelspec": {
   "display_name": "Python 3",
   "language": "python",
   "name": "python3"
  },
  "language_info": {
   "codemirror_mode": {
    "name": "ipython",
    "version": 3
   },
   "file_extension": ".py",
   "mimetype": "text/x-python",
   "name": "python",
   "nbconvert_exporter": "python",
   "pygments_lexer": "ipython3",
   "version": "3.8.8"
  }
 },
 "nbformat": 4,
 "nbformat_minor": 5
}
